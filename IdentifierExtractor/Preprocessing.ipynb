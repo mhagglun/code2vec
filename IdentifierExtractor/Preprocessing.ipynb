{
 "cells": [
  {
   "cell_type": "code",
   "execution_count": 1,
   "metadata": {},
   "outputs": [],
   "source": [
    "import re\n",
    "import numpy as np\n",
    "import pandas as pd\n",
    "from sklearn.model_selection import train_test_split"
   ]
  },
  {
   "cell_type": "code",
   "execution_count": 2,
   "metadata": {},
   "outputs": [],
   "source": [
    "data = 'tokens'\n",
    "_DATA_DIR = '../data/' + data"
   ]
  },
  {
   "cell_type": "markdown",
   "metadata": {},
   "source": [
    "## 1. Load data"
   ]
  },
  {
   "cell_type": "code",
   "execution_count": 3,
   "metadata": {
    "scrolled": true
   },
   "outputs": [
    {
     "data": {
      "text/html": [
       "<div>\n",
       "<style scoped>\n",
       "    .dataframe tbody tr th:only-of-type {\n",
       "        vertical-align: middle;\n",
       "    }\n",
       "\n",
       "    .dataframe tbody tr th {\n",
       "        vertical-align: top;\n",
       "    }\n",
       "\n",
       "    .dataframe thead th {\n",
       "        text-align: right;\n",
       "    }\n",
       "</style>\n",
       "<table border=\"1\" class=\"dataframe\">\n",
       "  <thead>\n",
       "    <tr style=\"text-align: right;\">\n",
       "      <th></th>\n",
       "      <th>file</th>\n",
       "      <th>method_name</th>\n",
       "      <th>tokens</th>\n",
       "    </tr>\n",
       "  </thead>\n",
       "  <tbody>\n",
       "    <tr>\n",
       "      <th>0</th>\n",
       "      <td>/home/marcus/Datasets/MLCODE/roclark/sportsipy...</td>\n",
       "      <td>read_file</td>\n",
       "      <td>[filepath, read, filename, __file__, open, pat...</td>\n",
       "    </tr>\n",
       "    <tr>\n",
       "      <th>1</th>\n",
       "      <td>/home/marcus/Datasets/MLCODE/roclark/sportsipy...</td>\n",
       "      <td>mock_pyquery</td>\n",
       "      <td>[opp_contents, read_file, status_code, html_co...</td>\n",
       "    </tr>\n",
       "    <tr>\n",
       "      <th>2</th>\n",
       "      <td>/home/marcus/Datasets/MLCODE/roclark/sportsipy...</td>\n",
       "      <td>mock_request</td>\n",
       "      <td>[status_code, html_contents, MockRequest, url,...</td>\n",
       "    </tr>\n",
       "    <tr>\n",
       "      <th>3</th>\n",
       "      <td>/home/marcus/Datasets/MLCODE/roclark/sportsipy...</td>\n",
       "      <td>__init__</td>\n",
       "      <td>[year, self, month]</td>\n",
       "    </tr>\n",
       "    <tr>\n",
       "      <th>4</th>\n",
       "      <td>/home/marcus/Datasets/MLCODE/roclark/sportsipy...</td>\n",
       "      <td>setup_method</td>\n",
       "      <td>[MONTH, team_conference, flexmock, self, and_r...</td>\n",
       "    </tr>\n",
       "  </tbody>\n",
       "</table>\n",
       "</div>"
      ],
      "text/plain": [
       "                                                file   method_name  \\\n",
       "0  /home/marcus/Datasets/MLCODE/roclark/sportsipy...     read_file   \n",
       "1  /home/marcus/Datasets/MLCODE/roclark/sportsipy...  mock_pyquery   \n",
       "2  /home/marcus/Datasets/MLCODE/roclark/sportsipy...  mock_request   \n",
       "3  /home/marcus/Datasets/MLCODE/roclark/sportsipy...      __init__   \n",
       "4  /home/marcus/Datasets/MLCODE/roclark/sportsipy...  setup_method   \n",
       "\n",
       "                                              tokens  \n",
       "0  [filepath, read, filename, __file__, open, pat...  \n",
       "1  [opp_contents, read_file, status_code, html_co...  \n",
       "2  [status_code, html_contents, MockRequest, url,...  \n",
       "3                                [year, self, month]  \n",
       "4  [MONTH, team_conference, flexmock, self, and_r...  "
      ]
     },
     "execution_count": 3,
     "metadata": {},
     "output_type": "execute_result"
    }
   ],
   "source": [
    "df = pd.read_json(_DATA_DIR + '/code2lib.json')\n",
    "df.head()"
   ]
  },
  {
   "cell_type": "markdown",
   "metadata": {},
   "source": [
    "## 2. Preprocess"
   ]
  },
  {
   "cell_type": "code",
   "execution_count": 4,
   "metadata": {},
   "outputs": [],
   "source": [
    "def camel_case_split(identifier, joinToken):\n",
    "    matches = re.finditer(\n",
    "        '.+?(?:(?<=[a-z])(?=[A-Z])|(?<=[A-Z])(?=[A-Z][a-z])|$)',\n",
    "        identifier,\n",
    "    )\n",
    "    return f'{joinToken}'.join([m.group(0).lower() for m in matches])\n",
    "\n",
    "def snake_case_split(identifier, joinToken):\n",
    "    return f'{joinToken}'.join([x for x in identifier.split('_') if x != ''])"
   ]
  },
  {
   "cell_type": "code",
   "execution_count": 5,
   "metadata": {
    "scrolled": true
   },
   "outputs": [
    {
     "data": {
      "text/html": [
       "<div>\n",
       "<style scoped>\n",
       "    .dataframe tbody tr th:only-of-type {\n",
       "        vertical-align: middle;\n",
       "    }\n",
       "\n",
       "    .dataframe tbody tr th {\n",
       "        vertical-align: top;\n",
       "    }\n",
       "\n",
       "    .dataframe thead th {\n",
       "        text-align: right;\n",
       "    }\n",
       "</style>\n",
       "<table border=\"1\" class=\"dataframe\">\n",
       "  <thead>\n",
       "    <tr style=\"text-align: right;\">\n",
       "      <th></th>\n",
       "      <th>file</th>\n",
       "      <th>method_name</th>\n",
       "      <th>tokens</th>\n",
       "    </tr>\n",
       "  </thead>\n",
       "  <tbody>\n",
       "    <tr>\n",
       "      <th>0</th>\n",
       "      <td>/home/marcus/Datasets/MLCODE/roclark/sportsipy...</td>\n",
       "      <td>read|file</td>\n",
       "      <td>filepath,read,filename,file,open,path,join,os,...</td>\n",
       "    </tr>\n",
       "    <tr>\n",
       "      <th>1</th>\n",
       "      <td>/home/marcus/Datasets/MLCODE/roclark/sportsipy...</td>\n",
       "      <td>mock|pyquery</td>\n",
       "      <td>opp,contents,read,file,status,code,html,conten...</td>\n",
       "    </tr>\n",
       "    <tr>\n",
       "      <th>2</th>\n",
       "      <td>/home/marcus/Datasets/MLCODE/roclark/sportsipy...</td>\n",
       "      <td>mock|request</td>\n",
       "      <td>status,code,html,contents,mock,request,url,tex...</td>\n",
       "    </tr>\n",
       "    <tr>\n",
       "      <th>3</th>\n",
       "      <td>/home/marcus/Datasets/MLCODE/roclark/sportsipy...</td>\n",
       "      <td>init</td>\n",
       "      <td>year,self,month</td>\n",
       "    </tr>\n",
       "    <tr>\n",
       "      <th>4</th>\n",
       "      <td>/home/marcus/Datasets/MLCODE/roclark/sportsipy...</td>\n",
       "      <td>setup|method</td>\n",
       "      <td>month,team,conference,flexmock,self,and,return...</td>\n",
       "    </tr>\n",
       "    <tr>\n",
       "      <th>...</th>\n",
       "      <td>...</td>\n",
       "      <td>...</td>\n",
       "      <td>...</td>\n",
       "    </tr>\n",
       "    <tr>\n",
       "      <th>583042</th>\n",
       "      <td>/home/marcus/Datasets/MLCODE/SeldonIO/alibi.gi...</td>\n",
       "      <td>test|get|quantiles</td>\n",
       "      <td>get,quantiles,rand,num,points,batch,size,input...</td>\n",
       "    </tr>\n",
       "    <tr>\n",
       "      <th>583043</th>\n",
       "      <td>/home/marcus/Datasets/MLCODE/SeldonIO/alibi.gi...</td>\n",
       "      <td>test|adaptive|grid</td>\n",
       "      <td>adaptive,grid,minimum,satisfied,min,bin,points...</td>\n",
       "    </tr>\n",
       "    <tr>\n",
       "      <th>583044</th>\n",
       "      <td>/home/marcus/Datasets/MLCODE/SeldonIO/alibi.gi...</td>\n",
       "      <td>uncollect|if|n|features|more|than|input|dim</td>\n",
       "      <td>features,n,features,kwargs,len</td>\n",
       "    </tr>\n",
       "    <tr>\n",
       "      <th>583045</th>\n",
       "      <td>/home/marcus/Datasets/MLCODE/SeldonIO/alibi.gi...</td>\n",
       "      <td>test|explain</td>\n",
       "      <td>rand,isinstance,constant,value,default,data,al...</td>\n",
       "    </tr>\n",
       "    <tr>\n",
       "      <th>583046</th>\n",
       "      <td>/home/marcus/Datasets/MLCODE/SeldonIO/alibi.gi...</td>\n",
       "      <td>test|constant|feature</td>\n",
       "      <td>assert,allclose,extrapolate,constant,perc,delt...</td>\n",
       "    </tr>\n",
       "  </tbody>\n",
       "</table>\n",
       "<p>583047 rows × 3 columns</p>\n",
       "</div>"
      ],
      "text/plain": [
       "                                                     file  \\\n",
       "0       /home/marcus/Datasets/MLCODE/roclark/sportsipy...   \n",
       "1       /home/marcus/Datasets/MLCODE/roclark/sportsipy...   \n",
       "2       /home/marcus/Datasets/MLCODE/roclark/sportsipy...   \n",
       "3       /home/marcus/Datasets/MLCODE/roclark/sportsipy...   \n",
       "4       /home/marcus/Datasets/MLCODE/roclark/sportsipy...   \n",
       "...                                                   ...   \n",
       "583042  /home/marcus/Datasets/MLCODE/SeldonIO/alibi.gi...   \n",
       "583043  /home/marcus/Datasets/MLCODE/SeldonIO/alibi.gi...   \n",
       "583044  /home/marcus/Datasets/MLCODE/SeldonIO/alibi.gi...   \n",
       "583045  /home/marcus/Datasets/MLCODE/SeldonIO/alibi.gi...   \n",
       "583046  /home/marcus/Datasets/MLCODE/SeldonIO/alibi.gi...   \n",
       "\n",
       "                                        method_name  \\\n",
       "0                                         read|file   \n",
       "1                                      mock|pyquery   \n",
       "2                                      mock|request   \n",
       "3                                              init   \n",
       "4                                      setup|method   \n",
       "...                                             ...   \n",
       "583042                           test|get|quantiles   \n",
       "583043                           test|adaptive|grid   \n",
       "583044  uncollect|if|n|features|more|than|input|dim   \n",
       "583045                                 test|explain   \n",
       "583046                        test|constant|feature   \n",
       "\n",
       "                                                   tokens  \n",
       "0       filepath,read,filename,file,open,path,join,os,...  \n",
       "1       opp,contents,read,file,status,code,html,conten...  \n",
       "2       status,code,html,contents,mock,request,url,tex...  \n",
       "3                                         year,self,month  \n",
       "4       month,team,conference,flexmock,self,and,return...  \n",
       "...                                                   ...  \n",
       "583042  get,quantiles,rand,num,points,batch,size,input...  \n",
       "583043  adaptive,grid,minimum,satisfied,min,bin,points...  \n",
       "583044                     features,n,features,kwargs,len  \n",
       "583045  rand,isinstance,constant,value,default,data,al...  \n",
       "583046  assert,allclose,extrapolate,constant,perc,delt...  \n",
       "\n",
       "[583047 rows x 3 columns]"
      ]
     },
     "execution_count": 5,
     "metadata": {},
     "output_type": "execute_result"
    }
   ],
   "source": [
    "df_processed = df.copy()\n",
    "\n",
    "df['tokens'] = df['tokens'].apply(lambda x: list(np.unique(x))) # Dont store duplicates\n",
    "df_processed = df_processed[~df_processed.tokens.str.len().eq(0)]\n",
    "df_processed['tokens'] = df_processed['tokens'].apply(lambda x: [snake_case_split(s, ',') for s in x] )\n",
    "df_processed['tokens'] = df_processed['tokens'].apply(lambda x: \",\".join([camel_case_split(s, ',') for s in x]))\n",
    "\n",
    "# split camel/snake case method names\n",
    "df_processed['method_name'] = df_processed.method_name.map(lambda x: snake_case_split(x, '|'))\n",
    "df_processed['method_name'] = df_processed.method_name.map(lambda x: camel_case_split(x, '|'))\n",
    "\n",
    "df_processed"
   ]
  },
  {
   "cell_type": "code",
   "execution_count": 6,
   "metadata": {},
   "outputs": [
    {
     "name": "stdout",
     "output_type": "stream",
     "text": [
      "Max number of tokens in method 986\n",
      "Min number of tokens in a method 1\n",
      "Average number of tokens per method 19.24\n"
     ]
    }
   ],
   "source": [
    "tokens = df_processed['tokens'].str.split(',').values\n",
    "num_tokens_per_method = [len(l) for l in tokens]\n",
    "print(f\"Max number of tokens in method {np.max(num_tokens_per_method)}\\nMin number of tokens in a method {np.min(num_tokens_per_method)}\\nAverage number of tokens per method {np.mean(num_tokens_per_method):.2f}\")"
   ]
  },
  {
   "cell_type": "code",
   "execution_count": 7,
   "metadata": {},
   "outputs": [
    {
     "data": {
      "text/plain": [
       "array([list(['filepath', 'read', 'filename', 'file', 'open', 'path', 'join', 'os', 'dirname']),\n",
       "       list(['opp', 'contents', 'read', 'file', 'status', 'code', 'html', 'contents', 'adv', 'opp', 'contents', 'div', 'url', 'text', 'self', 'basic', 'stats', 'url', 'basic', 'opponent', 'stats', 'url', 'advanced', 'opponent', 'stats', 'url', 'advanced', 'stats', 'url', 'basic', 'contents', 'mock', 'pq', 'adv', 'contents', 'year']),\n",
       "       list(['status', 'code', 'html', 'contents', 'mock', 'request', 'url', 'text', 'self', 'str', 'year']),\n",
       "       ..., list(['features', 'n', 'features', 'kwargs', 'len']),\n",
       "       list(['rand', 'isinstance', 'constant', 'value', 'default', 'data', 'ale', 'attr', 'n', 'features', 'feature', 'values', 'exp', 'zip', 'data', 'predictor', 'mock', 'ale', 'explainer', 'feature', 'deciles', 'shape', 'np', 'a0', 'ale', 'values', 'out', 'dim', 'target', 'names', 'default', 'meta', 'ale', 'len', 'featv', 'all', 'alev', 'features', 'float', 'explain', 'batch', 'size', 'ale0', 'keys', 'input', 'dim', 'random', 'feature', 'names', 'meta']),\n",
       "       list(['assert', 'allclose', 'extrapolate', 'constant', 'perc', 'delta', 'feature', 'constant', 'value', 'ale0', 'extrapolate', 'constant', 'min', 'ale', 'num', 'ale', 'extrapolate', 'constant', 'np', 'random', 'predict', 'array', 'sum', 'normal', 'max'])],\n",
       "      dtype=object)"
      ]
     },
     "execution_count": 7,
     "metadata": {},
     "output_type": "execute_result"
    }
   ],
   "source": [
    "tokens"
   ]
  },
  {
   "cell_type": "code",
   "execution_count": 8,
   "metadata": {},
   "outputs": [
    {
     "name": "stdout",
     "output_type": "stream",
     "text": [
      "Number of unique method names: 583047\n",
      "Number of unique tokens 455033\n"
     ]
    }
   ],
   "source": [
    "print(f\"Number of unique method names: {len(df_processed)}\\nNumber of unique tokens {len(np.unique(tokens))}\")"
   ]
  },
  {
   "cell_type": "code",
   "execution_count": 9,
   "metadata": {
    "scrolled": true
   },
   "outputs": [],
   "source": [
    "df_processed.drop(columns=['file'], inplace=True)"
   ]
  },
  {
   "cell_type": "markdown",
   "metadata": {},
   "source": [
    "## 3. Partition into sets"
   ]
  },
  {
   "cell_type": "code",
   "execution_count": 10,
   "metadata": {},
   "outputs": [
    {
     "name": "stdout",
     "output_type": "stream",
     "text": [
      "466437 train samples\n",
      "116610 test samples\n"
     ]
    },
    {
     "data": {
      "text/html": [
       "<div>\n",
       "<style scoped>\n",
       "    .dataframe tbody tr th:only-of-type {\n",
       "        vertical-align: middle;\n",
       "    }\n",
       "\n",
       "    .dataframe tbody tr th {\n",
       "        vertical-align: top;\n",
       "    }\n",
       "\n",
       "    .dataframe thead th {\n",
       "        text-align: right;\n",
       "    }\n",
       "</style>\n",
       "<table border=\"1\" class=\"dataframe\">\n",
       "  <thead>\n",
       "    <tr style=\"text-align: right;\">\n",
       "      <th></th>\n",
       "      <th>method_name</th>\n",
       "      <th>tokens</th>\n",
       "    </tr>\n",
       "  </thead>\n",
       "  <tbody>\n",
       "    <tr>\n",
       "      <th>12796</th>\n",
       "      <td>setup|dataset</td>\n",
       "      <td>dataset,class,dataset,dataset,iterator,subset,...</td>\n",
       "    </tr>\n",
       "    <tr>\n",
       "      <th>470705</th>\n",
       "      <td>test|div|forward|cpu</td>\n",
       "      <td>forward,cpu,self</td>\n",
       "    </tr>\n",
       "    <tr>\n",
       "      <th>6650</th>\n",
       "      <td>read|data</td>\n",
       "      <td>as,str,read,filename,tf,zip,file,namelist,zipf...</td>\n",
       "    </tr>\n",
       "    <tr>\n",
       "      <th>525876</th>\n",
       "      <td>test|get|parameters</td>\n",
       "      <td>segmentation,size,get,parameters,iaa,params,cs...</td>\n",
       "    </tr>\n",
       "    <tr>\n",
       "      <th>113465</th>\n",
       "      <td>generate|hyperparameters|samples</td>\n",
       "      <td>n,samples,optimize,sample,inference,n,burnin,r...</td>\n",
       "    </tr>\n",
       "    <tr>\n",
       "      <th>...</th>\n",
       "      <td>...</td>\n",
       "      <td>...</td>\n",
       "    </tr>\n",
       "    <tr>\n",
       "      <th>124336</th>\n",
       "      <td>create|yaml</td>\n",
       "      <td>open,yaml,error,print,yaml,exc,yf,data,dump</td>\n",
       "    </tr>\n",
       "    <tr>\n",
       "      <th>331079</th>\n",
       "      <td>forward</td>\n",
       "      <td>elu,slope,momentum,act,leaky,relu,running,mean...</td>\n",
       "    </tr>\n",
       "    <tr>\n",
       "      <th>378479</th>\n",
       "      <td>scheduler|dicts</td>\n",
       "      <td>self,scheduler,dicts</td>\n",
       "    </tr>\n",
       "    <tr>\n",
       "      <th>44594</th>\n",
       "      <td>process</td>\n",
       "      <td>statement,response,confidence</td>\n",
       "    </tr>\n",
       "    <tr>\n",
       "      <th>421452</th>\n",
       "      <td>test|matrix|set|diag</td>\n",
       "      <td>func,diagonal,testing,out,out,type,enabled,tar...</td>\n",
       "    </tr>\n",
       "  </tbody>\n",
       "</table>\n",
       "<p>466437 rows × 2 columns</p>\n",
       "</div>"
      ],
      "text/plain": [
       "                             method_name  \\\n",
       "12796                      setup|dataset   \n",
       "470705              test|div|forward|cpu   \n",
       "6650                           read|data   \n",
       "525876               test|get|parameters   \n",
       "113465  generate|hyperparameters|samples   \n",
       "...                                  ...   \n",
       "124336                       create|yaml   \n",
       "331079                           forward   \n",
       "378479                   scheduler|dicts   \n",
       "44594                            process   \n",
       "421452              test|matrix|set|diag   \n",
       "\n",
       "                                                   tokens  \n",
       "12796   dataset,class,dataset,dataset,iterator,subset,...  \n",
       "470705                                   forward,cpu,self  \n",
       "6650    as,str,read,filename,tf,zip,file,namelist,zipf...  \n",
       "525876  segmentation,size,get,parameters,iaa,params,cs...  \n",
       "113465  n,samples,optimize,sample,inference,n,burnin,r...  \n",
       "...                                                   ...  \n",
       "124336        open,yaml,error,print,yaml,exc,yf,data,dump  \n",
       "331079  elu,slope,momentum,act,leaky,relu,running,mean...  \n",
       "378479                               self,scheduler,dicts  \n",
       "44594                       statement,response,confidence  \n",
       "421452  func,diagonal,testing,out,out,type,enabled,tar...  \n",
       "\n",
       "[466437 rows x 2 columns]"
      ]
     },
     "execution_count": 10,
     "metadata": {},
     "output_type": "execute_result"
    }
   ],
   "source": [
    "train, test = train_test_split(df_processed, test_size=0.2, shuffle=True)\n",
    "print(f\"{len(train)} train samples\\n{len(test)} test samples\")\n",
    "train"
   ]
  },
  {
   "cell_type": "markdown",
   "metadata": {},
   "source": [
    "## 4. Save"
   ]
  },
  {
   "cell_type": "code",
   "execution_count": 11,
   "metadata": {},
   "outputs": [],
   "source": [
    "import csv\n",
    "train.to_csv(_DATA_DIR+'/train.csv', encoding='utf-8', sep=\" \", index=False, header=None, quoting = csv.QUOTE_NONE, escapechar = ' ')\n",
    "test.to_csv(_DATA_DIR+'/test.csv', encoding='utf-8', sep=\" \", index=False, header=None, quoting = csv.QUOTE_NONE, escapechar = ' ')"
   ]
  },
  {
   "cell_type": "code",
   "execution_count": null,
   "metadata": {},
   "outputs": [],
   "source": []
  }
 ],
 "metadata": {
  "kernelspec": {
   "display_name": "Python (scc)",
   "language": "python",
   "name": "scc"
  },
  "language_info": {
   "codemirror_mode": {
    "name": "ipython",
    "version": 3
   },
   "file_extension": ".py",
   "mimetype": "text/x-python",
   "name": "python",
   "nbconvert_exporter": "python",
   "pygments_lexer": "ipython3",
   "version": "3.8.8"
  }
 },
 "nbformat": 4,
 "nbformat_minor": 4
}
